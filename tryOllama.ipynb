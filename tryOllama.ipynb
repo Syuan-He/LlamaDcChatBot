{
 "cells": [
  {
   "cell_type": "code",
   "execution_count": 2,
   "metadata": {},
   "outputs": [],
   "source": [
    "import ollama"
   ]
  },
  {
   "cell_type": "code",
   "execution_count": 3,
   "metadata": {},
   "outputs": [],
   "source": [
    "model_ID = \"llama3.2\""
   ]
  },
  {
   "cell_type": "code",
   "execution_count": 4,
   "metadata": {},
   "outputs": [],
   "source": [
    "response = ollama.chat(model_ID,\n",
    "                       messages=[\n",
    "                           {\"role\": \"user\", \"content\": \"嗨！你好嗎？\"},\n",
    "                       ])"
   ]
  },
  {
   "cell_type": "code",
   "execution_count": 5,
   "metadata": {},
   "outputs": [
    {
     "name": "stdout",
     "output_type": "stream",
     "text": [
      "{'model': 'llama3.2', 'created_at': '2024-10-17T13:45:56.027481Z', 'message': {'role': 'assistant', 'content': '嗨！我好得很好，感谢你的问候！这是一次happy meetup！ how can i help you today?'}, 'done_reason': 'stop', 'done': True, 'total_duration': 1656262667, 'load_duration': 797170500, 'prompt_eval_count': 32, 'prompt_eval_duration': 99494000, 'eval_count': 29, 'eval_duration': 757623000}\n"
     ]
    }
   ],
   "source": [
    "print(response)"
   ]
  },
  {
   "cell_type": "code",
   "execution_count": null,
   "metadata": {},
   "outputs": [],
   "source": []
  }
 ],
 "metadata": {
  "kernelspec": {
   "display_name": "ollama-env",
   "language": "python",
   "name": "python3"
  },
  "language_info": {
   "codemirror_mode": {
    "name": "ipython",
    "version": 3
   },
   "file_extension": ".py",
   "mimetype": "text/x-python",
   "name": "python",
   "nbconvert_exporter": "python",
   "pygments_lexer": "ipython3",
   "version": "3.12.7"
  }
 },
 "nbformat": 4,
 "nbformat_minor": 2
}
